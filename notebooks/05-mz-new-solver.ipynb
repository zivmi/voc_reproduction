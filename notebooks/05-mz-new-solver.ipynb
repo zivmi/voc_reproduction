{
 "cells": [
  {
   "cell_type": "markdown",
   "metadata": {},
   "source": [
    "# Comparison of different functions for fitting ridge regressions"
   ]
  },
  {
   "cell_type": "code",
   "execution_count": 1,
   "metadata": {},
   "outputs": [],
   "source": [
    "import numpy as np\n",
    "from scipy.linalg import svd\n",
    "from sklearn.linear_model import Ridge\n",
    "import sys\n",
    "sys.path.append('../models')\n",
    "from ridge_solvers import ridgesvd, get_beta\n"
   ]
  },
  {
   "cell_type": "code",
   "execution_count": 2,
   "metadata": {},
   "outputs": [
    {
     "name": "stdout",
     "output_type": "stream",
     "text": [
      "3.2506332695025897e-14\n",
      "0.0\n",
      "9.43609697757336e-12\n",
      "1.999355542237069e-14\n",
      "1.6554899812115664e-14\n",
      "1.6554899812115664e-14\n"
     ]
    }
   ],
   "source": [
    "# Example usage:\n",
    "T = 100\n",
    "P = 1000\n",
    "X = np.random.randn(T, P)\n",
    "Y = np.random.randn(T)\n",
    "lambd = np.array([1])\n",
    "\n",
    "B_ridgesvd = ridgesvd(Y, X, lambd).flatten()\n",
    "B_get_beta = get_beta(Y, X, lambd/T).flatten()\n",
    "B_sklearn = np.linalg.inv(X.T @ X + lambd[0] * np.eye(P)) @ X.T @ Y\n",
    "B_sklearn_svd = Ridge(alpha=lambd[0], fit_intercept=False, solver=\"svd\").fit(X, Y).coef_\n",
    "B_sklearn_auto = Ridge(alpha=lambd[0], fit_intercept=False, solver=\"auto\").fit(X, Y).coef_\n",
    "B_sklearn_cholesky = Ridge(alpha=lambd[0], fit_intercept=False, solver=\"cholesky\").fit(X, Y).coef_\n",
    "\n",
    "\n",
    "ref = B_ridgesvd\n",
    "print(np.sum(abs(ref - B_get_beta)))\n",
    "print(np.sum(abs(ref - B_ridgesvd)))\n",
    "print(np.sum(abs(ref - B_sklearn)))\n",
    "print(np.sum(abs(ref - B_sklearn_svd)))\n",
    "print(np.sum(abs(ref - B_sklearn_auto)))\n",
    "print(np.sum(abs(ref - B_sklearn_cholesky)))"
   ]
  },
  {
   "cell_type": "code",
   "execution_count": 4,
   "metadata": {},
   "outputs": [
    {
     "name": "stdout",
     "output_type": "stream",
     "text": [
      "81.3 ms ± 32.7 ms per loop (mean ± std. dev. of 7 runs, 10 loops each)\n",
      "20.8 ms ± 7.87 ms per loop (mean ± std. dev. of 7 runs, 100 loops each)\n",
      "112 ms ± 4.77 ms per loop (mean ± std. dev. of 7 runs, 10 loops each)\n",
      "42.8 ms ± 17.8 ms per loop (mean ± std. dev. of 7 runs, 10 loops each)\n",
      "1.81 ms ± 33.9 µs per loop (mean ± std. dev. of 7 runs, 1,000 loops each)\n",
      "1.8 ms ± 58.3 µs per loop (mean ± std. dev. of 7 runs, 1,000 loops each)\n"
     ]
    }
   ],
   "source": [
    "%timeit ridgesvd(Y, X, lambd).flatten()\n",
    "%timeit get_beta(Y, X, lambd/T).flatten()\n",
    "%timeit np.linalg.inv(X.T @ X + lambd[0] * np.eye(P)) @ X.T @ Y\n",
    "%timeit Ridge(alpha=lambd[0], fit_intercept=False, solver=\"svd\").fit(X, Y).coef_\n",
    "%timeit Ridge(alpha=lambd[0], fit_intercept=False, solver=\"auto\").fit(X, Y).coef_\n",
    "%timeit Ridge(alpha=lambd[0], fit_intercept=False, solver=\"cholesky\").fit(X, Y).coef_\n"
   ]
  },
  {
   "cell_type": "markdown",
   "metadata": {},
   "source": [
    "Standard deviations are relatively large for the first three functions, probably because something is being cached. "
   ]
  }
 ],
 "metadata": {
  "kernelspec": {
   "display_name": "voc",
   "language": "python",
   "name": "python3"
  },
  "language_info": {
   "codemirror_mode": {
    "name": "ipython",
    "version": 3
   },
   "file_extension": ".py",
   "mimetype": "text/x-python",
   "name": "python",
   "nbconvert_exporter": "python",
   "pygments_lexer": "ipython3",
   "version": "3.12.3"
  }
 },
 "nbformat": 4,
 "nbformat_minor": 2
}
